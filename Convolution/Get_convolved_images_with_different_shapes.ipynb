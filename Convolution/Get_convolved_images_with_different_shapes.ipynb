{
 "cells": [
  {
   "cell_type": "code",
   "execution_count": 1,
   "id": "0e906d64",
   "metadata": {},
   "outputs": [
    {
     "name": "stderr",
     "output_type": "stream",
     "text": [
      "/home/vlad/miniconda3/envs/yolov8/lib/python3.10/site-packages/tqdm/auto.py:21: TqdmWarning: IProgress not found. Please update jupyter and ipywidgets. See https://ipywidgets.readthedocs.io/en/stable/user_install.html\n",
      "  from .autonotebook import tqdm as notebook_tqdm\n"
     ]
    }
   ],
   "source": [
    "import numpy as np\n",
    "import torch\n",
    "import torch.nn as nn\n",
    "\n",
    "import matplotlib.pyplot as plt"
   ]
  },
  {
   "cell_type": "markdown",
   "id": "82501889",
   "metadata": {},
   "source": [
    "# Convolve image and produce result from 1x256x256 to 1x252x84"
   ]
  },
  {
   "cell_type": "code",
   "execution_count": 5,
   "id": "4d83457e",
   "metadata": {},
   "outputs": [
    {
     "name": "stdout",
     "output_type": "stream",
     "text": [
      "Expected size: [  1 252  84]\n",
      "Empirical size: torch.Size([252, 84])\n"
     ]
    }
   ],
   "source": [
    "in_chanels = 1\n",
    "im_size = [256, 256]\n",
    "out_chanels = 1\n",
    "kernel_size = 7\n",
    "stride = (1, 3)\n",
    "padding = 1\n",
    "\n",
    "c = nn.Conv2d(in_chanels, out_chanels, kernel_size, stride, padding)\n",
    "\n",
    "img = torch.rand(1, in_chanels, im_size[0], im_size[1])\n",
    "\n",
    "result = c(img)\n",
    "\n",
    "result_shape = torch.squeeze(result).shape\n",
    "\n",
    "expected_shape = np.array([out_chanels, 0, 0], dtype=int)\n",
    "expected_shape[1] = np.floor((im_size[0]+2*padding - kernel_size)/stride[0]) + 1\n",
    "expected_shape[2] = np.floor((im_size[1]+2*padding - kernel_size)/stride[1]) + 1\n",
    "\n",
    "print(f\"Expected size: {expected_shape}\")\n",
    "print(f\"Empirical size: {result_shape}\")"
   ]
  },
  {
   "cell_type": "markdown",
   "id": "636f6ad9",
   "metadata": {},
   "source": [
    "# Convolve image and produce result from 3x64x64 to 10x28x28"
   ]
  },
  {
   "cell_type": "code",
   "execution_count": 8,
   "id": "46c0b91a",
   "metadata": {},
   "outputs": [
    {
     "name": "stdout",
     "output_type": "stream",
     "text": [
      "Expected size: [10 28 28]\n",
      "Empirical size: torch.Size([10, 28, 28])\n"
     ]
    }
   ],
   "source": [
    "in_chanels = 3\n",
    "im_size = [64, 64]\n",
    "out_chanels = 10\n",
    "kernel_size = 9\n",
    "stride = (2, 2)\n",
    "padding = 0\n",
    "\n",
    "c = nn.Conv2d(in_chanels, out_chanels, kernel_size, stride, padding)\n",
    "\n",
    "img = torch.rand(1, in_chanels, im_size[0], im_size[1])\n",
    "\n",
    "result = c(img)\n",
    "\n",
    "result_shape = torch.squeeze(result).shape\n",
    "\n",
    "expected_shape = np.array([out_chanels, 0, 0], dtype=int)\n",
    "expected_shape[1] = np.floor((im_size[0]+2*padding - kernel_size)/stride[0]) + 1\n",
    "expected_shape[2] = np.floor((im_size[1]+2*padding - kernel_size)/stride[1]) + 1\n",
    "\n",
    "print(f\"Expected size: {expected_shape}\")\n",
    "print(f\"Empirical size: {result_shape}\")"
   ]
  },
  {
   "cell_type": "markdown",
   "id": "9e58a991",
   "metadata": {},
   "source": [
    "# Convolve image and produce result from 1x32x32 to 6x28x28"
   ]
  },
  {
   "cell_type": "code",
   "execution_count": 10,
   "id": "04bc3451",
   "metadata": {},
   "outputs": [
    {
     "name": "stdout",
     "output_type": "stream",
     "text": [
      "Expected size: [ 6 28 28]\n",
      "Empirical size: torch.Size([6, 28, 28])\n"
     ]
    }
   ],
   "source": [
    "in_chanels = 1\n",
    "im_size = [32, 32]\n",
    "out_chanels = 6\n",
    "kernel_size = 5\n",
    "stride = (1, 1)\n",
    "padding = 0\n",
    "\n",
    "c = nn.Conv2d(in_chanels, out_chanels, kernel_size, stride, padding)\n",
    "\n",
    "img = torch.rand(1, in_chanels, im_size[0], im_size[1])\n",
    "\n",
    "result = c(img)\n",
    "\n",
    "result_shape = torch.squeeze(result).shape\n",
    "\n",
    "expected_shape = np.array([out_chanels, 0, 0], dtype=int)\n",
    "expected_shape[1] = np.floor((im_size[0]+2*padding - kernel_size)/stride[0]) + 1\n",
    "expected_shape[2] = np.floor((im_size[1]+2*padding - kernel_size)/stride[1]) + 1\n",
    "\n",
    "print(f\"Expected size: {expected_shape}\")\n",
    "print(f\"Empirical size: {result_shape}\")"
   ]
  },
  {
   "cell_type": "markdown",
   "id": "9bbfe1a1",
   "metadata": {},
   "source": [
    "# Convolve image and produce result from 3x227x227 to 96x55x55"
   ]
  },
  {
   "cell_type": "code",
   "execution_count": 12,
   "id": "0c4a4dec",
   "metadata": {},
   "outputs": [
    {
     "name": "stdout",
     "output_type": "stream",
     "text": [
      "Expected size: [96 55 55]\n",
      "Empirical size: torch.Size([96, 55, 55])\n"
     ]
    }
   ],
   "source": [
    "in_chanels = 3\n",
    "im_size = [227, 227]\n",
    "out_chanels = 96\n",
    "kernel_size = 11\n",
    "stride = (4, 4)\n",
    "padding = 0\n",
    "\n",
    "c = nn.Conv2d(in_chanels, out_chanels, kernel_size, stride, padding)\n",
    "\n",
    "img = torch.rand(1, in_chanels, im_size[0], im_size[1])\n",
    "\n",
    "result = c(img)\n",
    "\n",
    "result_shape = torch.squeeze(result).shape\n",
    "\n",
    "expected_shape = np.array([out_chanels, 0, 0], dtype=int)\n",
    "expected_shape[1] = np.floor((im_size[0]+2*padding - kernel_size)/stride[0]) + 1\n",
    "expected_shape[2] = np.floor((im_size[1]+2*padding - kernel_size)/stride[1]) + 1\n",
    "\n",
    "print(f\"Expected size: {expected_shape}\")\n",
    "print(f\"Empirical size: {result_shape}\")"
   ]
  },
  {
   "cell_type": "markdown",
   "id": "3024cb0e",
   "metadata": {},
   "source": [
    "# Convolve image and produce result from 3x224x224 to 64x224x224"
   ]
  },
  {
   "cell_type": "code",
   "execution_count": 16,
   "id": "c63babab",
   "metadata": {},
   "outputs": [
    {
     "name": "stdout",
     "output_type": "stream",
     "text": [
      "Expected size: [ 64 224 224]\n",
      "Empirical size: torch.Size([64, 224, 224])\n"
     ]
    }
   ],
   "source": [
    "in_chanels = 3\n",
    "im_size = [224, 224]\n",
    "out_chanels = 64\n",
    "kernel_size = 3\n",
    "stride = (1, 1)\n",
    "padding = 1\n",
    "\n",
    "c = nn.Conv2d(in_chanels, out_chanels, kernel_size, stride, padding)\n",
    "\n",
    "img = torch.rand(1, in_chanels, im_size[0], im_size[1])\n",
    "\n",
    "result = c(img)\n",
    "\n",
    "result_shape = torch.squeeze(result).shape\n",
    "\n",
    "expected_shape = np.array([out_chanels, 0, 0], dtype=int)\n",
    "expected_shape[1] = np.floor((im_size[0]+2*padding - kernel_size)/stride[0]) + 1\n",
    "expected_shape[2] = np.floor((im_size[1]+2*padding - kernel_size)/stride[1]) + 1\n",
    "\n",
    "print(f\"Expected size: {expected_shape}\")\n",
    "print(f\"Empirical size: {result_shape}\")"
   ]
  },
  {
   "cell_type": "code",
   "execution_count": null,
   "id": "d3278d70",
   "metadata": {},
   "outputs": [],
   "source": []
  }
 ],
 "metadata": {
  "kernelspec": {
   "display_name": "yolov8",
   "language": "python",
   "name": "yolov8"
  },
  "language_info": {
   "codemirror_mode": {
    "name": "ipython",
    "version": 3
   },
   "file_extension": ".py",
   "mimetype": "text/x-python",
   "name": "python",
   "nbconvert_exporter": "python",
   "pygments_lexer": "ipython3",
   "version": "3.10.9"
  }
 },
 "nbformat": 4,
 "nbformat_minor": 5
}
