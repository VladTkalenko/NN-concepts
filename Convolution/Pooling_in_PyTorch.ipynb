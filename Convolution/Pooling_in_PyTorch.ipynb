{
 "cells": [
  {
   "cell_type": "code",
   "execution_count": 1,
   "id": "5cd795b8",
   "metadata": {},
   "outputs": [
    {
     "name": "stderr",
     "output_type": "stream",
     "text": [
      "/home/vlad/miniconda3/envs/yolov8/lib/python3.10/site-packages/tqdm/auto.py:21: TqdmWarning: IProgress not found. Please update jupyter and ipywidgets. See https://ipywidgets.readthedocs.io/en/stable/user_install.html\n",
      "  from .autonotebook import tqdm as notebook_tqdm\n"
     ]
    }
   ],
   "source": [
    "import torch\n",
    "import torch.nn as nn"
   ]
  },
  {
   "cell_type": "code",
   "execution_count": 3,
   "id": "cb92b1d2",
   "metadata": {},
   "outputs": [
    {
     "name": "stdout",
     "output_type": "stream",
     "text": [
      "MaxPool2d(kernel_size=3, stride=3, padding=0, dilation=1, ceil_mode=False)\n",
      "MaxPool3d(kernel_size=3, stride=3, padding=0, dilation=1, ceil_mode=False)\n"
     ]
    }
   ],
   "source": [
    "pool_size = 3\n",
    "stride = 3\n",
    "\n",
    "p2 = nn.MaxPool2d(pool_size, stride)\n",
    "p3 = nn.MaxPool3d(pool_size, stride)\n",
    "\n",
    "print(p2)\n",
    "print(p3)"
   ]
  },
  {
   "cell_type": "code",
   "execution_count": 5,
   "id": "ccc5f66c",
   "metadata": {},
   "outputs": [
    {
     "name": "stdout",
     "output_type": "stream",
     "text": [
      "2D image, 2D maxpool: torch.Size([1, 1, 10, 10])\n",
      "\n",
      "3D image, 2D maxpool: torch.Size([1, 3, 10, 10])\n",
      "\n",
      "3D image, 3D maxpool: torch.Size([1, 1, 10, 10])\n",
      "\n"
     ]
    }
   ],
   "source": [
    "img2 = torch.randn(1, 1, 30, 30)\n",
    "img3 = torch.randn(1, 3, 30, 30)\n",
    "\n",
    "\n",
    "img2Pool2 = p2(img2)\n",
    "print(f\"2D image, 2D maxpool: {img2Pool2.shape}\\n\")\n",
    "\n",
    "# img2Pool3 = p3(img2)\n",
    "# print(f\"2D image, 3D maxpool: {img2Pool3.shape}\\n\")\n",
    "\n",
    "img3Pool2 = p2(img3)\n",
    "print(f\"3D image, 2D maxpool: {img3Pool2.shape}\\n\")\n",
    "\n",
    "img3Pool3 = p3(img3)\n",
    "print(f\"3D image, 3D maxpool: {img3Pool3.shape}\\n\")"
   ]
  },
  {
   "cell_type": "code",
   "execution_count": 7,
   "id": "45a74d64",
   "metadata": {},
   "outputs": [],
   "source": [
    "little_net = nn.Sequential(\n",
    "    nn.Conv2d(3, 10, 5, 3, 2),\n",
    "    nn.ReLU(),\n",
    "    nn.AvgPool3d(3,3),\n",
    "    \n",
    "    nn.Flatten(),\n",
    "    nn.Linear(588, 1),\n",
    "    nn.Sigmoid()\n",
    ")"
   ]
  },
  {
   "cell_type": "code",
   "execution_count": 8,
   "id": "b27dfee0",
   "metadata": {},
   "outputs": [
    {
     "data": {
      "text/plain": [
       "tensor([[0.5120]], grad_fn=<SigmoidBackward0>)"
      ]
     },
     "execution_count": 8,
     "metadata": {},
     "output_type": "execute_result"
    }
   ],
   "source": [
    "img = torch.rand(1, 3, 128, 128)\n",
    "little_net(img)"
   ]
  },
  {
   "cell_type": "code",
   "execution_count": null,
   "id": "75c9ee9f",
   "metadata": {},
   "outputs": [],
   "source": []
  }
 ],
 "metadata": {
  "kernelspec": {
   "display_name": "yolov8",
   "language": "python",
   "name": "yolov8"
  },
  "language_info": {
   "codemirror_mode": {
    "name": "ipython",
    "version": 3
   },
   "file_extension": ".py",
   "mimetype": "text/x-python",
   "name": "python",
   "nbconvert_exporter": "python",
   "pygments_lexer": "ipython3",
   "version": "3.10.9"
  }
 },
 "nbformat": 4,
 "nbformat_minor": 5
}
