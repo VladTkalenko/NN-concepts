{
 "cells": [
  {
   "cell_type": "code",
   "execution_count": 3,
   "id": "418bcf33",
   "metadata": {},
   "outputs": [],
   "source": [
    "import numpy as np\n",
    "import torch\n",
    "\n",
    "import pandas as pd\n",
    "\n",
    "import torchvision\n",
    "import torchvision.transforms as T\n",
    "from torch.utils.data import Dataset, DataLoader\n",
    "\n",
    "import matplotlib.pyplot as plt"
   ]
  },
  {
   "cell_type": "code",
   "execution_count": 4,
   "id": "db5c8f47",
   "metadata": {},
   "outputs": [
    {
     "name": "stdout",
     "output_type": "stream",
     "text": [
      "(8, 1, 28, 28)\n",
      "(8,)\n"
     ]
    }
   ],
   "source": [
    "data_frame = pd.read_csv('../ANN_part2/mnist_train.csv', delimiter=',')\n",
    "data = data_frame.to_numpy()\n",
    "\n",
    "labels = data[:8, 0]\n",
    "data = data[:8, 1:]\n",
    "\n",
    "data_norm = data / np.max(data)\n",
    "\n",
    "data_norm = data_norm.reshape(data_norm.shape[0], 1, 28, 28)\n",
    "\n",
    "print(data_norm.shape)\n",
    "print(labels.shape)\n",
    "\n",
    "dataT = torch.tensor(data_norm).float()\n",
    "labelsT = torch.tensor(labels).long()"
   ]
  },
  {
   "cell_type": "code",
   "execution_count": 5,
   "id": "1cc015e6",
   "metadata": {},
   "outputs": [],
   "source": [
    "class CustomDataset(Dataset):\n",
    "    def __init__(self, tensors, transform=None):\n",
    "        assert all(tensors[0].size(0)==t.size(0) for t in tensors), \"Size mismatch between tensors\"\n",
    "        \n",
    "        self.tensors = tensors\n",
    "        self.transform = transform\n",
    "        \n",
    "    def __getitem__(self, index):\n",
    "        \n",
    "        if self.transform:\n",
    "            x = self.transform(self.tensors[0][index])\n",
    "        else:\n",
    "            x = self.tensors[0][index]\n",
    "        y = self.tensors[1][index]\n",
    "        \n",
    "        return x, y\n",
    "    \n",
    "    def __len__(self):\n",
    "        return self.tensors[0].size(0)\n",
    "    "
   ]
  },
  {
   "cell_type": "code",
   "execution_count": 6,
   "id": "706965ec",
   "metadata": {},
   "outputs": [],
   "source": [
    "img_trains = T.Compose([\n",
    "    T.ToPILImage(),\n",
    "    T.RandomVerticalFlip(p=.5),\n",
    "    T.ToTensor()\n",
    "])"
   ]
  },
  {
   "cell_type": "code",
   "execution_count": 8,
   "id": "a5291065",
   "metadata": {},
   "outputs": [],
   "source": [
    "train_data = CustomDataset((dataT, labelsT), img_trains)\n",
    "\n",
    "dataloader = DataLoader(train_data, batch_size=8, shuffle=False)"
   ]
  },
  {
   "cell_type": "code",
   "execution_count": 9,
   "id": "55f658ce",
   "metadata": {},
   "outputs": [
    {
     "data": {
      "text/plain": [
       "__main__.CustomDataset"
      ]
     },
     "execution_count": 9,
     "metadata": {},
     "output_type": "execute_result"
    }
   ],
   "source": [
    "type(train_data)"
   ]
  },
  {
   "cell_type": "code",
   "execution_count": 12,
   "id": "34ba8736",
   "metadata": {},
   "outputs": [
    {
     "data": {
      "image/png": "[encoded data removed]",
      "text/plain": [
       "<Figure size 1600x400 with 16 Axes>"
      ]
     },
     "metadata": {},
     "output_type": "display_data"
    }
   ],
   "source": [
    "X, y = next(iter(dataloader))\n",
    "\n",
    "fig, axs = plt.subplots(2, 8, figsize=(16,4))\n",
    "\n",
    "for i in range(8):\n",
    "    axs[0, i].imshow(dataT[i, 0, :, :].detach(), cmap='gray')\n",
    "    axs[1, i].imshow(X[i, 0, :, :].detach(), cmap='gray')\n",
    "    \n",
    "    for row in range(2):\n",
    "        axs[row, i].set_xticks([])\n",
    "        axs[row, i].set_yticks([])\n",
    "        \n",
    "axs[0,0].set_ylabel('Original')\n",
    "axs[1, 0].set_xlabel('Torch dataset')\n",
    "\n",
    "plt.show()"
   ]
  },
  {
   "cell_type": "code",
   "execution_count": 13,
   "id": "9ab5f7a2",
   "metadata": {},
   "outputs": [
    {
     "data": {
      "text/plain": [
       "8"
      ]
     },
     "execution_count": 13,
     "metadata": {},
     "output_type": "execute_result"
    }
   ],
   "source": [
    "len(train_data)"
   ]
  },
  {
   "cell_type": "code",
   "execution_count": null,
   "id": "7f9b92c0",
   "metadata": {},
   "outputs": [],
   "source": []
  }
 ],
 "metadata": {
  "kernelspec": {
   "display_name": "yolov8",
   "language": "python",
   "name": "yolov8"
  },
  "language_info": {
   "codemirror_mode": {
    "name": "ipython",
    "version": 3
   },
   "file_extension": ".py",
   "mimetype": "text/x-python",
   "name": "python",
   "nbconvert_exporter": "python",
   "pygments_lexer": "ipython3",
   "version": "3.10.9"
  }
 },
 "nbformat": 4,
 "nbformat_minor": 5
}
