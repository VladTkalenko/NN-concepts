{
 "cells": [
  {
   "cell_type": "code",
   "execution_count": 1,
   "id": "d20b963d",
   "metadata": {},
   "outputs": [
    {
     "name": "stderr",
     "output_type": "stream",
     "text": [
      "/home/vlad/miniconda3/envs/yolov8/lib/python3.10/site-packages/tqdm/auto.py:21: TqdmWarning: IProgress not found. Please update jupyter and ipywidgets. See https://ipywidgets.readthedocs.io/en/stable/user_install.html\n",
      "  from .autonotebook import tqdm as notebook_tqdm\n"
     ]
    }
   ],
   "source": [
    "import torch\n",
    "import torch.nn as nn\n",
    "import numpy as np\n",
    "\n",
    "import seaborn as sns"
   ]
  },
  {
   "cell_type": "code",
   "execution_count": 2,
   "id": "fcb0bab9",
   "metadata": {},
   "outputs": [],
   "source": [
    "iris = sns.load_dataset('iris')\n",
    "\n",
    "data = torch.tensor(iris[iris.columns[0:4]].values).float()\n",
    "\n",
    "labels = torch.zeros(len(data), dtype = torch.long)\n",
    "labels[iris.species=='versicolor'] = 1\n",
    "labels[iris.species=='virginica'] = 2"
   ]
  },
  {
   "cell_type": "code",
   "execution_count": 24,
   "id": "48acf002",
   "metadata": {},
   "outputs": [
    {
     "name": "stdout",
     "output_type": "stream",
     "text": [
      "tensor([0, 0, 0, 0, 0, 0, 0, 0, 0, 0, 0, 0, 0, 0, 0, 0, 0, 0, 0, 0, 0, 0, 0, 0,\n",
      "        0, 0, 0, 0, 0, 0, 0, 0, 0, 0, 0, 0, 0, 0, 0, 0, 0, 0, 0, 0, 0, 0, 0, 0,\n",
      "        0, 0, 1, 1, 1, 1, 1, 1, 1, 1, 1, 1, 1, 1, 1, 1, 1, 1, 1, 1, 1, 1, 1, 1,\n",
      "        1, 1, 1, 1, 1, 1, 1, 1, 1, 1, 1, 1, 1, 1, 1, 1, 1, 1, 1, 1, 1, 1, 1, 1,\n",
      "        1, 1, 1, 1, 2])\n"
     ]
    }
   ],
   "source": [
    "print(labels[:101])"
   ]
  },
  {
   "cell_type": "code",
   "execution_count": 25,
   "id": "cc44787c",
   "metadata": {},
   "outputs": [
    {
     "data": {
      "text/plain": [
       "[1, 2, 3, 4]"
      ]
     },
     "execution_count": 25,
     "metadata": {},
     "output_type": "execute_result"
    }
   ],
   "source": [
    "[1,2]+[3,4]"
   ]
  },
  {
   "cell_type": "code",
   "execution_count": 64,
   "id": "7c70465a",
   "metadata": {},
   "outputs": [
    {
     "data": {
      "text/plain": [
       "array([ True,  True,  True, False,  True,  True,  True,  True, False,\n",
       "        True,  True,  True,  True,  True,  True,  True,  True, False,\n",
       "        True, False,  True,  True,  True,  True,  True,  True,  True,\n",
       "        True,  True,  True,  True, False,  True, False, False,  True,\n",
       "       False,  True, False, False,  True,  True,  True,  True,  True,\n",
       "        True,  True,  True,  True,  True, False,  True,  True,  True,\n",
       "        True,  True,  True,  True, False,  True,  True,  True,  True,\n",
       "        True,  True,  True,  True,  True, False, False,  True,  True,\n",
       "        True, False,  True, False,  True,  True,  True, False,  True,\n",
       "        True,  True,  True,  True,  True, False, False,  True,  True,\n",
       "        True,  True,  True,  True,  True,  True,  True,  True, False,\n",
       "        True,  True,  True,  True, False,  True,  True,  True,  True,\n",
       "        True,  True,  True,  True, False,  True, False,  True,  True,\n",
       "        True, False, False,  True,  True,  True,  True,  True,  True,\n",
       "       False,  True, False,  True,  True,  True,  True, False,  True,\n",
       "        True, False, False,  True,  True,  True,  True,  True,  True,\n",
       "        True,  True,  True,  True,  True,  True])"
      ]
     },
     "execution_count": 64,
     "metadata": {},
     "output_type": "execute_result"
    }
   ],
   "source": [
    "proportion =.8\n",
    "n_training = int(len(labels)*proportion)\n",
    "\n",
    "train_test_bool = np.zeros(len(labels),dtype=bool)\n",
    "\n",
    "items_for_train = np.concatenate((np.random.choice(range(int(len(labels)/3)), int(n_training/3), replace=False), \\\n",
    "(50+np.random.choice(range(int(len(labels)/3)), int(n_training/3), replace=False)),\\\n",
    "(100+np.random.choice(range(int(len(labels)/3)), int(n_training/3), replace=False))))\n",
    "\n",
    "train_test_bool[items_for_train] = True\n",
    "# train_test_bool[range(n_training)] = True\n",
    "train_test_bool"
   ]
  },
  {
   "cell_type": "code",
   "execution_count": 65,
   "id": "b28bf868",
   "metadata": {},
   "outputs": [
    {
     "name": "stdout",
     "output_type": "stream",
     "text": [
      "Average of full data:\n",
      "tensor(1.)\n",
      " \n",
      "Average of training data:\n",
      "tensor(1.)\n",
      " \n",
      "Average of test data:\n",
      "tensor(1.)\n",
      " \n"
     ]
    }
   ],
   "source": [
    "print('Average of full data:')\n",
    "print(torch.mean(labels.float()))\n",
    "print(' ')\n",
    "\n",
    "print('Average of training data:')\n",
    "print(torch.mean(labels[train_test_bool].float()))\n",
    "print(' ')\n",
    "\n",
    "print('Average of test data:')\n",
    "print(torch.mean(labels[~train_test_bool].float()))\n",
    "print(' ')"
   ]
  },
  {
   "cell_type": "code",
   "execution_count": 66,
   "id": "8c8a61d9",
   "metadata": {},
   "outputs": [],
   "source": [
    "ANNiris = nn.Sequential(\n",
    "    nn.Linear(4,64),\n",
    "    nn.ReLU(),\n",
    "    nn.Linear(64,64),\n",
    "    nn.ReLU(),\n",
    "    nn.Linear(64,3)\n",
    ")\n",
    "\n",
    "lossfun = nn.CrossEntropyLoss()\n",
    "\n",
    "optimizer = torch.optim.SGD(ANNiris.parameters(),lr=.01)"
   ]
  },
  {
   "cell_type": "code",
   "execution_count": 67,
   "id": "5a70106c",
   "metadata": {},
   "outputs": [
    {
     "name": "stdout",
     "output_type": "stream",
     "text": [
      "torch.Size([150, 4])\n",
      "torch.Size([120, 4])\n",
      "torch.Size([30, 4])\n"
     ]
    }
   ],
   "source": [
    "print(data.shape)\n",
    "\n",
    "print(data[train_test_bool, :].shape)\n",
    "\n",
    "print(data[~train_test_bool, :].shape)"
   ]
  },
  {
   "cell_type": "code",
   "execution_count": 68,
   "id": "5c7144b3",
   "metadata": {},
   "outputs": [],
   "source": [
    "num_epochs = 1000\n",
    "\n",
    "losses = torch.zeros(num_epochs)\n",
    "ongoing_acc = []\n",
    "\n",
    "for epoch in range(num_epochs):\n",
    "    yHat = ANNiris(data[train_test_bool, :])\n",
    "    \n",
    "    ongoing_acc.append(100*torch.mean((torch.argmax(yHat, axis=1) == labels[train_test_bool]).float()))\n",
    "    \n",
    "    loss = lossfun(yHat, labels[train_test_bool])\n",
    "    losses[epoch] = loss\n",
    "    \n",
    "    optimizer.zero_grad()\n",
    "    loss.backward()\n",
    "    optimizer.step()\n",
    "    "
   ]
  },
  {
   "cell_type": "code",
   "execution_count": 69,
   "id": "9f6561f5",
   "metadata": {},
   "outputs": [],
   "source": [
    "def get_class_accuracy(predictlabels, labels, num_of_class):\n",
    "    len_of_labels = torch.sum((labels == num_of_class).float())\n",
    "    predicted_class = torch.logical_and((labels == num_of_class),(predictlabels == num_of_class)).float()\n",
    "    return 100*torch.sum(predicted_class)/len_of_labels\n",
    "\n",
    "predictions = ANNiris(data[train_test_bool, :])\n",
    "train_acc = 100*torch.mean((torch.argmax(predictions, axis=1) == labels[train_test_bool]).float())\n",
    "\n",
    "predictions = ANNiris(data[~train_test_bool, :])\n",
    "test_acc = 100*torch.mean((torch.argmax(predictions, axis=1) == labels[~train_test_bool]).float())\n",
    "\n",
    "acc_versicolor = get_class_accuracy(torch.argmax(predictions, axis=1), labels[~train_test_bool], 1)\n",
    "acc_setosa = get_class_accuracy(torch.argmax(predictions, axis=1), labels[~train_test_bool], 0)\n",
    "acc_virginica= get_class_accuracy(torch.argmax(predictions, axis=1), labels[~train_test_bool], 2)"
   ]
  },
  {
   "cell_type": "code",
   "execution_count": 70,
   "id": "d27e9426",
   "metadata": {},
   "outputs": [
    {
     "name": "stdout",
     "output_type": "stream",
     "text": [
      "Final TRAIN accuracy: 98.33333587646484\n",
      "Final TEST accuracy: 100.0\n",
      "Setosa test accuracy: 100.0\n",
      "Versicolor test accuracy: 100.0\n",
      "Virginica test accuracy: 100.0\n"
     ]
    }
   ],
   "source": [
    "print(f\"Final TRAIN accuracy: {train_acc}\")\n",
    "print(f\"Final TEST accuracy: {test_acc}\")\n",
    "print(f\"Setosa test accuracy: {acc_setosa}\")\n",
    "print(f\"Versicolor test accuracy: {acc_versicolor}\")\n",
    "print(f\"Virginica test accuracy: {acc_virginica}\")"
   ]
  },
  {
   "cell_type": "code",
   "execution_count": null,
   "id": "c1199b0e",
   "metadata": {},
   "outputs": [],
   "source": []
  }
 ],
 "metadata": {
  "kernelspec": {
   "display_name": "yolov8",
   "language": "python",
   "name": "yolov8"
  },
  "language_info": {
   "codemirror_mode": {
    "name": "ipython",
    "version": 3
   },
   "file_extension": ".py",
   "mimetype": "text/x-python",
   "name": "python",
   "nbconvert_exporter": "python",
   "pygments_lexer": "ipython3",
   "version": "3.10.9"
  }
 },
 "nbformat": 4,
 "nbformat_minor": 5
}
