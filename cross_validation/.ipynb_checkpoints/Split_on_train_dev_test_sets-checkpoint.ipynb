{
 "cells": [
  {
   "cell_type": "code",
   "execution_count": 5,
   "id": "b73f4279",
   "metadata": {},
   "outputs": [],
   "source": [
    "import numpy as np\n",
    "from sklearn.model_selection import train_test_split"
   ]
  },
  {
   "cell_type": "code",
   "execution_count": 6,
   "id": "dad7e16e",
   "metadata": {},
   "outputs": [
    {
     "name": "stdout",
     "output_type": "stream",
     "text": [
      "[[ 11  12  13  14]\n",
      " [ 21  22  23  24]\n",
      " [ 31  32  33  34]\n",
      " [ 41  42  43  44]\n",
      " [ 51  52  53  54]\n",
      " [ 61  62  63  64]\n",
      " [ 71  72  73  74]\n",
      " [ 81  82  83  84]\n",
      " [ 91  92  93  94]\n",
      " [101 102 103 104]]\n",
      " \n",
      "[False False False False False  True  True  True  True  True]\n"
     ]
    }
   ],
   "source": [
    "fakedata = np.tile(np.array([1,2,3,4]),(10,1)) + np.tile(10*np.arange(1,11),(4,1)).T\n",
    "fakelabels = np.arange(10)>4\n",
    "print(fakedata), print(' ')\n",
    "print(fakelabels)"
   ]
  },
  {
   "cell_type": "code",
   "execution_count": 14,
   "id": "013978c2",
   "metadata": {},
   "outputs": [
    {
     "name": "stdout",
     "output_type": "stream",
     "text": [
      "Training data size: (8, 4)\n",
      "Devset data size: (1, 4)\n",
      "Test data size: (1, 4)\n",
      " \n",
      "Training data: \n",
      "[[ 11  12  13  14]\n",
      " [ 41  42  43  44]\n",
      " [ 31  32  33  34]\n",
      " [ 51  52  53  54]\n",
      " [ 91  92  93  94]\n",
      " [ 21  22  23  24]\n",
      " [101 102 103 104]\n",
      " [ 81  82  83  84]]\n",
      " \n",
      "Devset data: \n",
      "[[61 62 63 64]]\n",
      " \n",
      "Test data: \n",
      "[[71 72 73 74]]\n",
      " \n"
     ]
    }
   ],
   "source": [
    "proportions = [.8, .1, .1]\n",
    "train_data, test_tmp_data, train_labels, test_tmp_labels = \\\n",
    "            train_test_split(fakedata, fakelabels, train_size=proportions[0])\n",
    "\n",
    "split = proportions[1] / np.sum(proportions[1:])\n",
    "devset_data, test_data, devset_labels, test_labels = \\\n",
    "            train_test_split(test_tmp_data, test_tmp_labels, train_size=split) \n",
    "\n",
    "\n",
    "print(f\"Training data size: {train_data.shape}\")\n",
    "print(f\"Devset data size: {devset_data.shape}\")\n",
    "print(f\"Test data size: {test_data.shape}\")\n",
    "print(\" \")\n",
    "\n",
    "print(\"Training data: \")\n",
    "print(train_data)\n",
    "print(' ')\n",
    "\n",
    "print(\"Devset data: \")\n",
    "print(devset_data)\n",
    "print(' ')\n",
    "\n",
    "print(\"Test data: \")\n",
    "print(test_data)\n",
    "print(' ')"
   ]
  },
  {
   "cell_type": "code",
   "execution_count": 17,
   "id": "63cf7bca",
   "metadata": {},
   "outputs": [
    {
     "name": "stdout",
     "output_type": "stream",
     "text": [
      "Partition proportions\n",
      "[0.8 0.1 0.1]\n",
      " \n",
      "Partitioin boundaries:\n",
      "[ 8  9 10]\n",
      " \n",
      "Randomized data indices:\n",
      "[3 0 7 9 5 4 1 2 8 6]\n",
      " \n"
     ]
    }
   ],
   "source": [
    "# Split with numpy\n",
    "partitions = np.array([.8, .1, .1])\n",
    "print('Partition proportions')\n",
    "print(partitions)\n",
    "print(' ')\n",
    "\n",
    "partition_bnd = np.cumsum(partitions*len(fakelabels)).astype(int)\n",
    "print(\"Partitioin boundaries:\")\n",
    "print(partition_bnd)\n",
    "print(' ')\n",
    "\n",
    "randindices = np.random.permutation(range(len(fakelabels)))\n",
    "print(\"Randomized data indices:\")\n",
    "print(randindices)\n",
    "print(' ')"
   ]
  },
  {
   "cell_type": "code",
   "execution_count": 21,
   "id": "fb9c3175",
   "metadata": {},
   "outputs": [],
   "source": [
    "train_dataN = fakedata[randindices[:partition_bnd[0]],:]\n",
    "train_labelsN = fakelabels[randindices[:partition_bnd[0]]]\n",
    "\n",
    "devset_dataN = fakedata[randindices[partition_bnd[0]:partition_bnd[1]],:]\n",
    "devset_labelsN = fakelabels[randindices[partition_bnd[0]:partition_bnd[1]]]\n",
    "\n",
    "test_dataN = fakedata[randindices[partition_bnd[1]:],:]\n",
    "test_labelsN = fakelabels[randindices[partition_bnd[1]:]]"
   ]
  },
  {
   "cell_type": "code",
   "execution_count": 22,
   "id": "c7b445ee",
   "metadata": {},
   "outputs": [
    {
     "name": "stdout",
     "output_type": "stream",
     "text": [
      "Training data size: (8, 4)\n",
      "Devset data size: (1, 4)\n",
      "Test data size: (1, 4)\n",
      " \n",
      "Training data: \n",
      "[[ 41  42  43  44]\n",
      " [ 11  12  13  14]\n",
      " [ 81  82  83  84]\n",
      " [101 102 103 104]\n",
      " [ 61  62  63  64]\n",
      " [ 51  52  53  54]\n",
      " [ 21  22  23  24]\n",
      " [ 31  32  33  34]]\n",
      " \n",
      "Devset data: \n",
      "[[91 92 93 94]]\n",
      " \n",
      "Test data: \n",
      "[[71 72 73 74]]\n",
      " \n"
     ]
    }
   ],
   "source": [
    "\n",
    "print(f\"Training data size: {train_dataN.shape}\")\n",
    "print(f\"Devset data size: {devset_dataN.shape}\")\n",
    "print(f\"Test data size: {test_dataN.shape}\")\n",
    "print(\" \")\n",
    "\n",
    "print(\"Training data: \")\n",
    "print(train_dataN)\n",
    "print(' ')\n",
    "\n",
    "print(\"Devset data: \")\n",
    "print(devset_dataN)\n",
    "print(' ')\n",
    "\n",
    "print(\"Test data: \")\n",
    "print(test_dataN)\n",
    "print(' ')"
   ]
  },
  {
   "cell_type": "code",
   "execution_count": null,
   "id": "16715536",
   "metadata": {},
   "outputs": [],
   "source": []
  }
 ],
 "metadata": {
  "kernelspec": {
   "display_name": "yolov8",
   "language": "python",
   "name": "yolov8"
  },
  "language_info": {
   "codemirror_mode": {
    "name": "ipython",
    "version": 3
   },
   "file_extension": ".py",
   "mimetype": "text/x-python",
   "name": "python",
   "nbconvert_exporter": "python",
   "pygments_lexer": "ipython3",
   "version": "3.10.9"
  }
 },
 "nbformat": 4,
 "nbformat_minor": 5
}
