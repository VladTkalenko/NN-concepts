{
 "cells": [
  {
   "cell_type": "code",
   "execution_count": 1,
   "id": "855762df",
   "metadata": {},
   "outputs": [
    {
     "name": "stderr",
     "output_type": "stream",
     "text": [
      "/home/vlad/miniconda3/envs/yolov8/lib/python3.10/site-packages/tqdm/auto.py:21: TqdmWarning: IProgress not found. Please update jupyter and ipywidgets. See https://ipywidgets.readthedocs.io/en/stable/user_install.html\n",
      "  from .autonotebook import tqdm as notebook_tqdm\n"
     ]
    }
   ],
   "source": [
    "import numpy as np\n",
    "import pandas as pd\n",
    "\n",
    "import torch \n",
    "import torch.nn as nn\n",
    "import torch.nn.functional as F\n",
    "from torch.utils.data import DataLoader, TensorDataset\n",
    "from sklearn.model_selection import train_test_split\n",
    "\n",
    "from torchsummary import summary\n",
    "import matplotlib.pyplot as plt"
   ]
  },
  {
   "cell_type": "code",
   "execution_count": 2,
   "id": "448f0ae8",
   "metadata": {},
   "outputs": [
    {
     "name": "stdout",
     "output_type": "stream",
     "text": [
      "(60000, 1, 28, 28)\n",
      "(60000,)\n"
     ]
    }
   ],
   "source": [
    "data_frame = pd.read_csv('../ANN_part2/mnist_train.csv', delimiter=',')\n",
    "data = data_frame.to_numpy()\n",
    "\n",
    "labels = data[:, 0]\n",
    "data = data[:, 1:]\n",
    "\n",
    "data_norm = data / np.max(data)\n",
    "\n",
    "data_norm = data_norm.reshape(data_norm.shape[0], 1, 28, 28)\n",
    "\n",
    "print(data_norm.shape)\n",
    "print(labels.shape)"
   ]
  },
  {
   "cell_type": "code",
   "execution_count": 3,
   "id": "b8dd906c",
   "metadata": {},
   "outputs": [],
   "source": [
    "dataT = torch.tensor(data_norm).float()\n",
    "labelsT = torch.tensor(labels).long()\n",
    "\n",
    "train_data, test_data, train_labels, test_labels = train_test_split(dataT, labelsT, test_size=.1)\n",
    "\n",
    "train_dataset = TensorDataset(train_data, train_labels)\n",
    "test_dataset = TensorDataset(test_data, test_labels)\n",
    "\n",
    "batch_size = 32\n",
    "\n",
    "train_loader = DataLoader(train_dataset, batch_size = batch_size, shuffle=True, drop_last=True)\n",
    "test_loader = DataLoader(test_dataset, batch_size = test_dataset.tensors[0].shape[0])"
   ]
  },
  {
   "cell_type": "code",
   "execution_count": 4,
   "id": "9bcbc461",
   "metadata": {},
   "outputs": [
    {
     "data": {
      "text/plain": [
       "torch.Size([54000, 1, 28, 28])"
      ]
     },
     "execution_count": 4,
     "metadata": {},
     "output_type": "execute_result"
    }
   ],
   "source": [
    "train_loader.dataset.tensors[0].shape"
   ]
  },
  {
   "cell_type": "code",
   "execution_count": 5,
   "id": "3e542eb5",
   "metadata": {},
   "outputs": [],
   "source": [
    "def create_model(print_toggle=False):\n",
    "    \n",
    "    class MNISTModel(nn.Module):\n",
    "        def __init__(self, print_toggle):\n",
    "            super().__init__()\n",
    "            \n",
    "            self.conv1 = nn.Conv2d(1, 10, kernel_size = 5, stride=1, padding = 1)\n",
    "            \n",
    "            self.conv2 = nn.Conv2d(10, 20, kernel_size = 5, stride=1, padding = 1)\n",
    "            \n",
    "            expected_size = np.floor( (5+2*0-1)/1) + 1\n",
    "            expected_size = 20*int(expected_size)**2\n",
    "        \n",
    "            self.fc1 = nn.Linear(expected_size, 50)\n",
    "        \n",
    "            self.out = nn.Linear(50, 10)\n",
    "            \n",
    "            self.print = print_toggle\n",
    "            \n",
    "        def forward(self, x):\n",
    "            \n",
    "            print(f\"Input: {x.shape}\") if self.print else None\n",
    "            \n",
    "            x = F.relu(F.max_pool2d(self.conv1(x), 2))\n",
    "            print(f\"Layer conv1/pool1: {x.shape}\") if self.print else None\n",
    "            x = F.relu(F.max_pool2d(self.conv2(x), 2))\n",
    "            print(f\"Layer conv12/pool2: {x.shape}\") if self.print else None\n",
    "            \n",
    "            n_units = x.numel()/x.shape[0]\n",
    "            \n",
    "            x = x.view(-1, int(n_units))\n",
    "            if self.print: print(f\"Vectorize: {x.shape}\")\n",
    "                \n",
    "            x = F.relu(self.fc1(x))\n",
    "            if self.print: print(f\"Layer fc1: {x.shape}\")\n",
    "            x = self.out(x)\n",
    "            if self.print: print(f\"Layer out: {x.shape}\")\n",
    "                \n",
    "            return x\n",
    "        \n",
    "    model = MNISTModel(print_toggle)\n",
    "        \n",
    "    loss_func = nn.CrossEntropyLoss()\n",
    "        \n",
    "    optimizer = torch.optim.Adam(model.parameters(), lr=.001)\n",
    "        \n",
    "    return model, loss_func, optimizer"
   ]
  },
  {
   "cell_type": "code",
   "execution_count": 6,
   "id": "20a8754d",
   "metadata": {},
   "outputs": [
    {
     "name": "stdout",
     "output_type": "stream",
     "text": [
      "Input: torch.Size([32, 1, 28, 28])\n",
      "Layer conv1/pool1: torch.Size([32, 10, 13, 13])\n",
      "Layer conv12/pool2: torch.Size([32, 20, 5, 5])\n",
      "Vectorize: torch.Size([32, 500])\n",
      "Layer fc1: torch.Size([32, 50])\n",
      "Layer out: torch.Size([32, 10])\n",
      " \n",
      "torch.Size([32, 10])\n",
      "torch.Size([32])\n",
      " \n",
      "Loss:\n",
      "tensor(2.3023, grad_fn=<NllLossBackward0>)\n"
     ]
    }
   ],
   "source": [
    "model, loss_fun, optimizer = create_model(True)\n",
    "\n",
    "X, y = next(iter(train_loader))\n",
    "yHat = model(X)\n",
    "\n",
    "print(' ')\n",
    "print(yHat.shape)\n",
    "print(y.shape)\n",
    "\n",
    "loss = loss_fun(yHat, y)\n",
    "print(' ')\n",
    "print('Loss:')\n",
    "print(loss)"
   ]
  },
  {
   "cell_type": "code",
   "execution_count": 7,
   "id": "76f0f20e",
   "metadata": {},
   "outputs": [
    {
     "name": "stdout",
     "output_type": "stream",
     "text": [
      "Input: torch.Size([2, 1, 28, 28])\n",
      "Layer conv1/pool1: torch.Size([2, 10, 13, 13])\n",
      "Layer conv12/pool2: torch.Size([2, 20, 5, 5])\n",
      "Vectorize: torch.Size([2, 500])\n",
      "Layer fc1: torch.Size([2, 50])\n",
      "Layer out: torch.Size([2, 10])\n",
      "----------------------------------------------------------------\n",
      "        Layer (type)               Output Shape         Param #\n",
      "================================================================\n",
      "            Conv2d-1           [-1, 10, 26, 26]             260\n",
      "            Conv2d-2           [-1, 20, 11, 11]           5,020\n",
      "            Linear-3                   [-1, 50]          25,050\n",
      "            Linear-4                   [-1, 10]             510\n",
      "================================================================\n",
      "Total params: 30,840\n",
      "Trainable params: 30,840\n",
      "Non-trainable params: 0\n",
      "----------------------------------------------------------------\n",
      "Input size (MB): 0.00\n",
      "Forward/backward pass size (MB): 0.07\n",
      "Params size (MB): 0.12\n",
      "Estimated Total Size (MB): 0.19\n",
      "----------------------------------------------------------------\n"
     ]
    }
   ],
   "source": [
    "summary(model, (1, 28, 28), device='cpu')"
   ]
  },
  {
   "cell_type": "code",
   "execution_count": 8,
   "id": "072f1362",
   "metadata": {},
   "outputs": [],
   "source": [
    "num_of_epochs = 10\n",
    "def train_model():\n",
    "    model, loss_func, optimizer = create_model()\n",
    "    \n",
    "    losses = torch.zeros(num_of_epochs)\n",
    "    train_acc = []\n",
    "    test_acc = []\n",
    "    \n",
    "    for epoch in range(num_of_epochs):\n",
    "        model.train()\n",
    "        batch_acc = []\n",
    "        batch_loss = []\n",
    "        for X,y in  train_loader:\n",
    "            yHat = model(X)\n",
    "            loss = loss_func(yHat, y)\n",
    "            \n",
    "            optimizer.zero_grad()\n",
    "            loss.backward()\n",
    "            optimizer.step()\n",
    "            \n",
    "            batch_loss.append(loss.item())\n",
    "            \n",
    "            matches = torch.argmax(yHat, axis=1) == y\n",
    "            matches_numeric = matches.float()\n",
    "            accuracy = 100*torch.mean(matches_numeric)\n",
    "            batch_acc.append(accuracy)\n",
    "            \n",
    "        train_acc.append(np.mean(batch_acc))\n",
    "        losses[epoch] = np.mean(batch_loss)\n",
    "        model.eval()\n",
    "        \n",
    "        X,y = next(iter(test_loader))\n",
    "        with torch.no_grad():\n",
    "            yHat = model(X)\n",
    "        \n",
    "        test_acc.append(100*torch.mean((torch.argmax(yHat, axis=1)==y).float()))\n",
    "        \n",
    "    return train_acc, test_acc, losses, model"
   ]
  },
  {
   "cell_type": "code",
   "execution_count": 9,
   "id": "31d83e7d",
   "metadata": {},
   "outputs": [],
   "source": [
    "train_acc, test_acc, losses, model = train_model()"
   ]
  },
  {
   "cell_type": "code",
   "execution_count": 10,
   "id": "792a76ab",
   "metadata": {},
   "outputs": [
    {
     "data": {
      "image/png": "[encoded data removed]",
      "text/plain": [
       "<Figure size 1200x500 with 2 Axes>"
      ]
     },
     "metadata": {},
     "output_type": "display_data"
    }
   ],
   "source": [
    "fig, ax = plt.subplots(1,2, figsize=(12,5))\n",
    "\n",
    "ax[0].plot(losses)\n",
    "ax[0].set_xlabel('Epochs')\n",
    "ax[0].set_ylabel('Loss')\n",
    "ax[0].set_ylim([0,3])\n",
    "ax[0].set_title('Model loss')\n",
    "\n",
    "ax[1].plot(train_acc, label='Train')\n",
    "ax[1].plot(test_acc, label='Test')\n",
    "ax[1].set_xlabel('Epochs')\n",
    "ax[1].set_ylabel('Accuracy (%)')\n",
    "ax[1].set_ylim([10,100])\n",
    "ax[1].set_title(f\"Final model test accuracy: {test_acc[-1]:.2f}%\")\n",
    "ax[1].legend()\n",
    "\n",
    "plt.show()"
   ]
  },
  {
   "cell_type": "code",
   "execution_count": null,
   "id": "4a228afd",
   "metadata": {},
   "outputs": [],
   "source": []
  }
 ],
 "metadata": {
  "kernelspec": {
   "display_name": "yolov8",
   "language": "python",
   "name": "yolov8"
  },
  "language_info": {
   "codemirror_mode": {
    "name": "ipython",
    "version": 3
   },
   "file_extension": ".py",
   "mimetype": "text/x-python",
   "name": "python",
   "nbconvert_exporter": "python",
   "pygments_lexer": "ipython3",
   "version": "3.10.9"
  }
 },
 "nbformat": 4,
 "nbformat_minor": 5
}
