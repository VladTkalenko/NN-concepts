{
 "cells": [
  {
   "cell_type": "code",
   "execution_count": 3,
   "id": "899eb89e",
   "metadata": {},
   "outputs": [],
   "source": [
    "import numpy as np\n",
    "import torch\n",
    "\n",
    "from torch.utils.data import DataLoader, TensorDataset"
   ]
  },
  {
   "cell_type": "code",
   "execution_count": 4,
   "id": "1188eaed",
   "metadata": {},
   "outputs": [],
   "source": [
    "n_observations = 100\n",
    "n_features = 20\n",
    "\n",
    "data = np.random.randn(n_observations, n_features)"
   ]
  },
  {
   "cell_type": "code",
   "execution_count": 7,
   "id": "ee55422c",
   "metadata": {},
   "outputs": [
    {
     "name": "stdout",
     "output_type": "stream",
     "text": [
      "Numpy data:\n",
      "<class 'numpy.ndarray'>\n",
      "(100, 20)\n",
      "float64\n",
      " \n",
      "Tensor data:\n",
      "<class 'torch.Tensor'>\n",
      "torch.Size([100, 20])\n",
      "torch.float64\n",
      " \n"
     ]
    }
   ],
   "source": [
    "dataT = torch.tensor(data)\n",
    "\n",
    "print('Numpy data:')\n",
    "print(type(data))\n",
    "print(data.shape)\n",
    "print(data.dtype)\n",
    "print(' ')\n",
    "\n",
    "print('Tensor data:')\n",
    "print(type(dataT))\n",
    "print(dataT.size())\n",
    "print(dataT.dtype)\n",
    "print(' ')"
   ]
  },
  {
   "cell_type": "code",
   "execution_count": 8,
   "id": "24c7edf8",
   "metadata": {},
   "outputs": [
    {
     "name": "stdout",
     "output_type": "stream",
     "text": [
      "torch.float32\n",
      "torch.int64\n"
     ]
    }
   ],
   "source": [
    "dataT2 = torch.tensor(data).float()\n",
    "print(dataT2.dtype)\n",
    "\n",
    "dataT3 = torch.tensor(data).long()\n",
    "print(dataT3.dtype)"
   ]
  },
  {
   "cell_type": "code",
   "execution_count": 9,
   "id": "b04d6c46",
   "metadata": {},
   "outputs": [
    {
     "data": {
      "text/plain": [
       "(tensor([[-2.2849, -0.4143,  0.3851,  ...,  0.4203,  0.0225,  0.5106],\n",
       "         [-0.1934, -1.5936,  0.4925,  ...,  0.2854, -0.2941,  0.5130],\n",
       "         [-0.4417, -0.4318, -0.2262,  ...,  1.1162, -0.9986,  0.0986],\n",
       "         ...,\n",
       "         [ 0.2448, -0.8723, -0.6204,  ..., -0.5832,  2.1082,  0.6355],\n",
       "         [-2.2794, -1.4198, -0.9267,  ...,  0.0927,  0.9481,  0.3755],\n",
       "         [-1.0849, -1.1821,  1.7996,  ..., -0.0372,  1.6561, -0.9539]],\n",
       "        dtype=torch.float64),)"
      ]
     },
     "execution_count": 9,
     "metadata": {},
     "output_type": "execute_result"
    }
   ],
   "source": [
    "dataset = TensorDataset(dataT)\n",
    "\n",
    "dataset.tensors"
   ]
  },
  {
   "cell_type": "code",
   "execution_count": 13,
   "id": "4dd8e243",
   "metadata": {},
   "outputs": [
    {
     "name": "stdout",
     "output_type": "stream",
     "text": [
      "tensor([[1.],\n",
      "        [1.],\n",
      "        [1.],\n",
      "        [1.],\n",
      "        [1.],\n",
      "        [1.],\n",
      "        [1.],\n",
      "        [1.],\n",
      "        [1.],\n",
      "        [1.],\n",
      "        [1.],\n",
      "        [1.],\n",
      "        [1.],\n",
      "        [1.],\n",
      "        [1.],\n",
      "        [1.],\n",
      "        [1.],\n",
      "        [1.],\n",
      "        [1.],\n",
      "        [1.],\n",
      "        [1.],\n",
      "        [1.],\n",
      "        [1.],\n",
      "        [1.],\n",
      "        [1.],\n",
      "        [2.],\n",
      "        [2.],\n",
      "        [2.],\n",
      "        [2.],\n",
      "        [2.],\n",
      "        [2.],\n",
      "        [2.],\n",
      "        [2.],\n",
      "        [2.],\n",
      "        [2.],\n",
      "        [2.],\n",
      "        [2.],\n",
      "        [2.],\n",
      "        [2.],\n",
      "        [2.],\n",
      "        [2.],\n",
      "        [2.],\n",
      "        [2.],\n",
      "        [2.],\n",
      "        [2.],\n",
      "        [2.],\n",
      "        [2.],\n",
      "        [2.],\n",
      "        [2.],\n",
      "        [2.],\n",
      "        [3.],\n",
      "        [3.],\n",
      "        [3.],\n",
      "        [3.],\n",
      "        [3.],\n",
      "        [3.],\n",
      "        [3.],\n",
      "        [3.],\n",
      "        [3.],\n",
      "        [3.],\n",
      "        [3.],\n",
      "        [3.],\n",
      "        [3.],\n",
      "        [3.],\n",
      "        [3.],\n",
      "        [3.],\n",
      "        [3.],\n",
      "        [3.],\n",
      "        [3.],\n",
      "        [3.],\n",
      "        [3.],\n",
      "        [3.],\n",
      "        [3.],\n",
      "        [3.],\n",
      "        [3.],\n",
      "        [4.],\n",
      "        [4.],\n",
      "        [4.],\n",
      "        [4.],\n",
      "        [4.],\n",
      "        [4.],\n",
      "        [4.],\n",
      "        [4.],\n",
      "        [4.],\n",
      "        [4.],\n",
      "        [4.],\n",
      "        [4.],\n",
      "        [4.],\n",
      "        [4.],\n",
      "        [4.],\n",
      "        [4.],\n",
      "        [4.],\n",
      "        [4.],\n",
      "        [4.],\n",
      "        [4.],\n",
      "        [4.],\n",
      "        [4.],\n",
      "        [4.],\n",
      "        [4.],\n",
      "        [4.]])\n",
      "(tensor([-2.2849, -0.4143,  0.3851,  2.1476,  1.0201,  1.3697, -1.0608, -0.3129,\n",
      "        -0.4546,  0.3746,  0.7979, -1.4579,  0.5050, -0.2107,  1.3653,  1.3896,\n",
      "        -0.8594,  0.4203,  0.0225,  0.5106], dtype=torch.float64), tensor([1.]))\n",
      "torch.Size([100, 20])\n",
      "torch.Size([100, 1])\n",
      "(100,)\n"
     ]
    }
   ],
   "source": [
    "labels = torch.ceil(torch.linspace(.01,4,n_observations))\n",
    "\n",
    "labels = labels.reshape((len(labels), 1))\n",
    "print(labels)\n",
    "\n",
    "dataset = TensorDataset(dataT, labels)\n",
    "print(dataset[0])\n",
    "print(dataset.tensors[0].size())\n",
    "print(dataset.tensors[1].size())\n",
    "\n",
    "print(np.shape(np.random.randint(5,size=n_observations)))"
   ]
  },
  {
   "cell_type": "code",
   "execution_count": 15,
   "id": "e09af5f9",
   "metadata": {},
   "outputs": [
    {
     "data": {
      "text/plain": [
       "torch.Size([100, 20])"
      ]
     },
     "execution_count": 15,
     "metadata": {},
     "output_type": "execute_result"
    }
   ],
   "source": [
    "batch_size=25\n",
    "dataloader = DataLoader(dataset, batch_size=batch_size)\n",
    "\n",
    "dataloader.dataset.tensors[0].size()"
   ]
  },
  {
   "cell_type": "code",
   "execution_count": 16,
   "id": "b6800cfb",
   "metadata": {},
   "outputs": [
    {
     "name": "stdout",
     "output_type": "stream",
     "text": [
      "BATCH INFO:\n",
      "torch.Size([25, 20])\n",
      "torch.Size([25, 1])\n",
      " \n",
      "BATCH INFO:\n",
      "torch.Size([25, 20])\n",
      "torch.Size([25, 1])\n",
      " \n",
      "BATCH INFO:\n",
      "torch.Size([25, 20])\n",
      "torch.Size([25, 1])\n",
      " \n",
      "BATCH INFO:\n",
      "torch.Size([25, 20])\n",
      "torch.Size([25, 1])\n",
      " \n"
     ]
    }
   ],
   "source": [
    "for dat, labs in dataloader:\n",
    "    print('BATCH INFO:')\n",
    "    print(dat.size())\n",
    "    print(labs.size())\n",
    "    print(' ')"
   ]
  },
  {
   "cell_type": "code",
   "execution_count": 17,
   "id": "63750c2b",
   "metadata": {},
   "outputs": [
    {
     "name": "stdout",
     "output_type": "stream",
     "text": [
      "tensor([[1., 1., 1., 1., 1., 1., 1., 1., 1., 1., 1., 1., 1., 1., 1., 1., 1., 1.,\n",
      "         1., 1., 1., 1., 1., 1., 1.]])\n",
      " \n",
      "tensor([[2., 2., 2., 2., 2., 2., 2., 2., 2., 2., 2., 2., 2., 2., 2., 2., 2., 2.,\n",
      "         2., 2., 2., 2., 2., 2., 2.]])\n",
      " \n",
      "tensor([[3., 3., 3., 3., 3., 3., 3., 3., 3., 3., 3., 3., 3., 3., 3., 3., 3., 3.,\n",
      "         3., 3., 3., 3., 3., 3., 3.]])\n",
      " \n",
      "tensor([[4., 4., 4., 4., 4., 4., 4., 4., 4., 4., 4., 4., 4., 4., 4., 4., 4., 4.,\n",
      "         4., 4., 4., 4., 4., 4., 4.]])\n",
      " \n"
     ]
    }
   ],
   "source": [
    "for dat, labs in dataloader:\n",
    "    print(labs.T)\n",
    "    print(' ')"
   ]
  },
  {
   "cell_type": "code",
   "execution_count": 24,
   "id": "341d2325",
   "metadata": {},
   "outputs": [
    {
     "name": "stdout",
     "output_type": "stream",
     "text": [
      "tensor([[2., 2., 1., 3., 4., 2., 4., 2., 4., 3., 1., 1., 1., 3., 1., 2., 4., 2.,\n",
      "         4., 1., 3., 2., 4., 3., 3.]])\n",
      " \n",
      "tensor([[3., 1., 2., 2., 4., 4., 2., 1., 3., 2., 4., 4., 4., 1., 4., 2., 1., 1.,\n",
      "         4., 3., 3., 1., 1., 1., 3.]])\n",
      " \n",
      "tensor([[4., 2., 2., 4., 1., 1., 3., 2., 1., 3., 1., 4., 4., 3., 3., 4., 3., 4.,\n",
      "         4., 2., 3., 3., 4., 3., 3.]])\n",
      " \n",
      "tensor([[1., 4., 2., 1., 1., 2., 4., 4., 2., 1., 1., 3., 2., 3., 2., 2., 4., 1.,\n",
      "         3., 3., 3., 2., 1., 2., 2.]])\n",
      " \n"
     ]
    }
   ],
   "source": [
    "dataloader = DataLoader(dataset, batch_size=batch_size, shuffle=True)\n",
    "\n",
    "for dat, labs in dataloader:\n",
    "    print(labs.T)\n",
    "    print(' ')"
   ]
  },
  {
   "cell_type": "code",
   "execution_count": 26,
   "id": "5a069a6a",
   "metadata": {},
   "outputs": [
    {
     "data": {
      "text/plain": [
       "tensor([[1.],\n",
       "        [2.],\n",
       "        [1.],\n",
       "        [3.],\n",
       "        [2.],\n",
       "        [1.],\n",
       "        [1.],\n",
       "        [2.],\n",
       "        [3.],\n",
       "        [1.],\n",
       "        [4.],\n",
       "        [3.],\n",
       "        [1.],\n",
       "        [2.],\n",
       "        [1.],\n",
       "        [3.],\n",
       "        [1.],\n",
       "        [2.],\n",
       "        [4.],\n",
       "        [3.],\n",
       "        [1.],\n",
       "        [1.],\n",
       "        [3.],\n",
       "        [2.],\n",
       "        [2.]])"
      ]
     },
     "execution_count": 26,
     "metadata": {},
     "output_type": "execute_result"
    }
   ],
   "source": [
    "dat, labs = next(iter(dataloader))\n",
    "labs"
   ]
  },
  {
   "cell_type": "code",
   "execution_count": null,
   "id": "6cc7f80f",
   "metadata": {},
   "outputs": [],
   "source": []
  }
 ],
 "metadata": {
  "kernelspec": {
   "display_name": "yolov8",
   "language": "python",
   "name": "yolov8"
  },
  "language_info": {
   "codemirror_mode": {
    "name": "ipython",
    "version": 3
   },
   "file_extension": ".py",
   "mimetype": "text/x-python",
   "name": "python",
   "nbconvert_exporter": "python",
   "pygments_lexer": "ipython3",
   "version": "3.10.9"
  }
 },
 "nbformat": 4,
 "nbformat_minor": 5
}
